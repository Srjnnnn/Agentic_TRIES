{
 "cells": [
  {
   "cell_type": "code",
   "execution_count": null,
   "metadata": {},
   "outputs": [],
   "source": [
    "!pip install transformers"
   ]
  },
  {
   "cell_type": "code",
   "execution_count": null,
   "metadata": {},
   "outputs": [],
   "source": [
    "!pip install -U sentence-transformers"
   ]
  },
  {
   "cell_type": "code",
   "execution_count": null,
   "metadata": {},
   "outputs": [],
   "source": [
    "from sentence_transformers import SentenceTransformer\n",
    "sentences = [\"This is an example sentence\", \"Each sentence is converted\"]\n",
    "\n",
    "model = SentenceTransformer('sentence-transformers/all-MiniLM-L6-v2')\n",
    "embeddings = model.encode(sentences)\n",
    "print(embeddings)\n",
    "\n"
   ]
  },
  {
   "cell_type": "code",
   "execution_count": null,
   "metadata": {},
   "outputs": [],
   "source": [
    "from sklearn.cluster import KMeans\n",
    "\n",
    "kmeans = KMeans(n_clusters=2, random_state=0).fit(embeddings)\n",
    "\n",
    "print(kmeans.labels_)"
   ]
  },
  {
   "cell_type": "code",
   "execution_count": null,
   "metadata": {},
   "outputs": [],
   "source": [
    "example_words = [\"science\", \"orange\", \"technology\", \"ass\", \"apple\", \"mango\", \"Einstein\", \"math\", \"water\", \"watermelon\", \"chest\"]\n",
    "\n",
    "\n",
    "example_embeddings = model.encode(example_words)\n",
    "\n",
    "kmeans = KMeans(n_clusters=3, random_state=0).fit(example_embeddings)\n",
    "\n",
    "print(kmeans.labels_)"
   ]
  },
  {
   "cell_type": "code",
   "execution_count": null,
   "metadata": {},
   "outputs": [],
   "source": [
    "import numpy as np\n",
    "\n",
    "cosine_similarity = np.dot(example_embeddings, example_embeddings.T) / (np.linalg.norm(example_embeddings) * np.linalg.norm(example_embeddings))\n",
    "\n",
    "cosine_similarity\n",
    "\n"
   ]
  },
  {
   "cell_type": "code",
   "execution_count": null,
   "metadata": {},
   "outputs": [],
   "source": [
    "x_min = np.min(cosine_similarity[0, :])\n",
    "x_max = np.max(cosine_similarity[0, :])\n",
    "\n",
    "x_normalized = (cosine_similarity - x_min) / (x_max - x_min)\n",
    "\n",
    "print(x_normalized)"
   ]
  },
  {
   "cell_type": "code",
   "execution_count": null,
   "metadata": {},
   "outputs": [],
   "source": [
    "!pip install einops datasets"
   ]
  },
  {
   "cell_type": "code",
   "execution_count": 5,
   "metadata": {},
   "outputs": [
    {
     "name": "stderr",
     "output_type": "stream",
     "text": [
      "Loading checkpoint shards: 100%|██████████| 4/4 [00:06<00:00,  1.63s/it]\n"
     ]
    },
    {
     "name": "stdout",
     "output_type": "stream",
     "text": [
      "[[87.42694854736328, 0.4628347158432007, 2.4941823482513428], [0.9652664661407471, 86.0372314453125, 7.357072830200195], [3.4475162029266357, 10.905562400817871, 47.55426788330078]]\n"
     ]
    }
   ],
   "source": [
    "import torch\n",
    "import torch.nn.functional as F\n",
    "from transformers import AutoTokenizer, AutoModel\n",
    "\n",
    "# Each query needs to be accompanied by an corresponding instruction describing the task.\n",
    "task_name_to_instruct = {\"example\": \"Given a question, retrieve passages that answer the question\",}\n",
    "\n",
    "query_prefix = \"Instruct: \"+task_name_to_instruct[\"example\"]+\"\\nQuery: \"\n",
    "queries = [\n",
    "    'are judo throws allowed in wrestling?', \n",
    "    'how to become a radiology technician in michigan?',\n",
    "    'How to become better in Footbal?'\n",
    "    ]\n",
    "\n",
    "# No instruction needed for retrieval passages\n",
    "passage_prefix = \"\"\n",
    "passages = [\n",
    "    \"Since you're reading this, you are probably someone from a judo background or someone who is just wondering how judo techniques can be applied under wrestling rules. So without further ado, let's get to the question. Are Judo throws allowed in wrestling? Yes, judo throws are allowed in freestyle and folkstyle wrestling. You only need to be careful to follow the slam rules when executing judo throws. In wrestling, a slam is lifting and returning an opponent to the mat with unnecessary force.\",\n",
    "    \"Below are the basic steps to becoming a radiologic technologist in Michigan:Earn a high school diploma. As with most careers in health care, a high school education is the first step to finding entry-level employment. Taking classes in math and science, such as anatomy, biology, chemistry, physiology, and physics, can help prepare students for their college studies and future careers.Earn an associate degree. Entry-level radiologic positions typically require at least an Associate of Applied Science. Before enrolling in one of these degree programs, students should make sure it has been properly accredited by the Joint Review Committee on Education in Radiologic Technology (JRCERT).Get licensed or certified in the state of Michigan.\",\n",
    "    \"You should work on passing and dribbling a lot.\"\n",
    "]\n",
    "\n",
    "# load model with tokenizer\n",
    "model = AutoModel.from_pretrained('nvidia/NV-Embed-v2', trust_remote_code=True)\n",
    "\n",
    "# get the embeddings\n",
    "max_length = 32768\n",
    "query_embeddings = model.encode(queries, instruction=query_prefix, max_length=max_length)\n",
    "passage_embeddings = model.encode(passages, instruction=passage_prefix, max_length=max_length)\n",
    "\n",
    "# normalize embeddings\n",
    "query_embeddings = F.normalize(query_embeddings, p=2, dim=1)\n",
    "passage_embeddings = F.normalize(passage_embeddings, p=2, dim=1)\n",
    "\n",
    "# get the embeddings with DataLoader (spliting the datasets into multiple mini-batches)\n",
    "# batch_size=2\n",
    "# query_embeddings = model._do_encode(queries, batch_size=batch_size, instruction=query_prefix, max_length=max_length, num_workers=32, return_numpy=True)\n",
    "# passage_embeddings = model._do_encode(passages, batch_size=batch_size, instruction=passage_prefix, max_length=max_length, num_workers=32, return_numpy=True)\n",
    "\n",
    "scores = (query_embeddings @ passage_embeddings.T) * 100\n",
    "print(scores.tolist())\n",
    "# [[87.42693328857422, 0.46283677220344543], [0.965264618396759, 86.03721618652344]]\n"
   ]
  },
  {
   "cell_type": "code",
   "execution_count": null,
   "metadata": {},
   "outputs": [
    {
     "name": "stderr",
     "output_type": "stream",
     "text": [
      "/home/sercan/.cache/huggingface/modules/transformers_modules/nvidia/NV-Embed-v2/5130cf1daf847c1bacee854a6ef1ca939e747fb2/modeling_nvembed.py:349: UserWarning: To copy construct from a tensor, it is recommended to use sourceTensor.clone().detach() or sourceTensor.clone().detach().requires_grad_(True), rather than torch.tensor(sourceTensor).\n",
      "  'input_ids': torch.tensor(batch_dict.get('input_ids').to(batch_dict.get('input_ids')).long()),\n",
      "/home/sercan/anaconda3/envs/general/lib/python3.13/contextlib.py:109: FutureWarning: `torch.backends.cuda.sdp_kernel()` is deprecated. In the future, this context manager will be removed. Please see `torch.nn.attention.sdpa_kernel()` for the new context manager, with updated signature.\n",
      "  self.gen = func(*args, **kwds)\n"
     ]
    },
    {
     "name": "stdout",
     "output_type": "stream",
     "text": [
      "0.7909797430038452\n",
      "tensor(9.0448e-05)\n"
     ]
    }
   ],
   "source": [
    "import math\n",
    "\n",
    "words = [\"data analysis\", \"data science\", \"machine learning\", \"deep learning\", \"artificial intelligence\", \"watermelon\", \"chest\", \"apple\", \"mango\", \"orange\"]\n",
    "\n",
    "embeddings1 = model.encode(words)\n",
    "\n",
    "# normalized_embeddings = F.normalize(embeddings1, p=2, dim=1)\n",
    "\n",
    "# scores1 = (normalized_embeddings @ normalized_embeddings.T) * 100\n",
    "\n",
    "scores1 = F.cosine_similarity(embeddings1[9], embeddings1[8], dim=-1)\n",
    "\n",
    "print(scores1.tolist())\n"
   ]
  },
  {
   "cell_type": "code",
   "execution_count": null,
   "metadata": {},
   "outputs": [],
   "source": []
  }
 ],
 "metadata": {
  "kernelspec": {
   "display_name": "general",
   "language": "python",
   "name": "python3"
  },
  "language_info": {
   "codemirror_mode": {
    "name": "ipython",
    "version": 3
   },
   "file_extension": ".py",
   "mimetype": "text/x-python",
   "name": "python",
   "nbconvert_exporter": "python",
   "pygments_lexer": "ipython3",
   "version": "3.13.1"
  }
 },
 "nbformat": 4,
 "nbformat_minor": 2
}
